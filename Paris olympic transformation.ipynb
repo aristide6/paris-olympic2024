{
 "cells": [
  {
   "cell_type": "code",
   "execution_count": 0,
   "metadata": {
    "application/vnd.databricks.v1+cell": {
     "cellMetadata": {
      "byteLimit": 2048000,
      "rowLimit": 10000
     },
     "inputWidgets": {},
     "nuid": "f8b0c988-d335-4b0f-9c97-3f5880636c72",
     "showTitle": false,
     "tableResultSettingsMap": {},
     "title": ""
    }
   },
   "outputs": [],
   "source": [
    "from pyspark.sql.functions import col\n",
    "from pyspark.sql.types import IntegerType, DoubleType, BooleanType, DateType"
   ]
  },
  {
   "cell_type": "code",
   "execution_count": 0,
   "metadata": {
    "application/vnd.databricks.v1+cell": {
     "cellMetadata": {
      "byteLimit": 2048000,
      "rowLimit": 10000
     },
     "inputWidgets": {},
     "nuid": "1ab6ebf4-1063-4d9e-a03f-a4efed0c0573",
     "showTitle": false,
     "tableResultSettingsMap": {},
     "title": ""
    }
   },
   "outputs": [],
   "source": [
    "spark.conf.set(\n",
    "    \"fs.azure.account.key.parisolympicdataaristide.dfs.core.windows.net\",\"<<key_value\")"
   ]
  },
  {
   "cell_type": "code",
   "execution_count": 0,
   "metadata": {
    "application/vnd.databricks.v1+cell": {
     "cellMetadata": {
      "byteLimit": 2048000,
      "rowLimit": 10000
     },
     "inputWidgets": {},
     "nuid": "34ddbf89-a8c6-4f38-acee-679b1b7e1f4c",
     "showTitle": false,
     "tableResultSettingsMap": {},
     "title": ""
    }
   },
   "outputs": [],
   "source": [
    "from pyspark.sql import SparkSession"
   ]
  },
  {
   "cell_type": "code",
   "execution_count": 0,
   "metadata": {
    "application/vnd.databricks.v1+cell": {
     "cellMetadata": {
      "byteLimit": 2048000,
      "rowLimit": 10000
     },
     "inputWidgets": {},
     "nuid": "4b07fdd2-593a-4a0b-9ec5-d63f1c154178",
     "showTitle": false,
     "tableResultSettingsMap": {},
     "title": ""
    }
   },
   "outputs": [
    {
     "output_type": "display_data",
     "data": {
      "text/html": [
       "<style scoped>\n",
       "  .table-result-container {\n",
       "    max-height: 300px;\n",
       "    overflow: auto;\n",
       "  }\n",
       "  table, th, td {\n",
       "    border: 1px solid black;\n",
       "    border-collapse: collapse;\n",
       "  }\n",
       "  th, td {\n",
       "    padding: 5px;\n",
       "  }\n",
       "  th {\n",
       "    text-align: left;\n",
       "  }\n",
       "</style><div class='table-result-container'><table class='table-result'><thead style='background-color: white'><tr><th>path</th><th>name</th><th>size</th><th>modificationTime</th></tr></thead><tbody><tr><td>abfss://paris-olympic-data@parisolympicdataaristide.dfs.core.windows.net/raw-data/athletes.csv</td><td>athletes.csv</td><td>7156043</td><td>1736457536000</td></tr><tr><td>abfss://paris-olympic-data@parisolympicdataaristide.dfs.core.windows.net/raw-data/coaches.csv</td><td>coaches.csv</td><td>93472</td><td>1736457566000</td></tr><tr><td>abfss://paris-olympic-data@parisolympicdataaristide.dfs.core.windows.net/raw-data/medals.csv</td><td>medals.csv</td><td>179036</td><td>1736457603000</td></tr><tr><td>abfss://paris-olympic-data@parisolympicdataaristide.dfs.core.windows.net/raw-data/medals_totals.csv</td><td>medals_totals.csv</td><td>3065</td><td>1736457583000</td></tr><tr><td>abfss://paris-olympic-data@parisolympicdataaristide.dfs.core.windows.net/raw-data/teams.csv</td><td>teams.csv</td><td>442798</td><td>1736457551000</td></tr></tbody></table></div>"
      ]
     },
     "metadata": {
      "application/vnd.databricks.v1+output": {
       "addedWidgets": {},
       "aggData": [],
       "aggError": "",
       "aggOverflow": false,
       "aggSchema": [],
       "aggSeriesLimitReached": false,
       "aggType": "",
       "arguments": {},
       "columnCustomDisplayInfos": {},
       "data": [
        [
         "abfss://paris-olympic-data@parisolympicdataaristide.dfs.core.windows.net/raw-data/athletes.csv",
         "athletes.csv",
         7156043,
         1736457536000
        ],
        [
         "abfss://paris-olympic-data@parisolympicdataaristide.dfs.core.windows.net/raw-data/coaches.csv",
         "coaches.csv",
         93472,
         1736457566000
        ],
        [
         "abfss://paris-olympic-data@parisolympicdataaristide.dfs.core.windows.net/raw-data/medals.csv",
         "medals.csv",
         179036,
         1736457603000
        ],
        [
         "abfss://paris-olympic-data@parisolympicdataaristide.dfs.core.windows.net/raw-data/medals_totals.csv",
         "medals_totals.csv",
         3065,
         1736457583000
        ],
        [
         "abfss://paris-olympic-data@parisolympicdataaristide.dfs.core.windows.net/raw-data/teams.csv",
         "teams.csv",
         442798,
         1736457551000
        ]
       ],
       "datasetInfos": [],
       "dbfsResultPath": null,
       "isJsonSchema": true,
       "metadata": {},
       "overflow": false,
       "plotOptions": {
        "customPlotOptions": {},
        "displayType": "table",
        "pivotAggregation": null,
        "pivotColumns": null,
        "xColumns": null,
        "yColumns": null
       },
       "removedWidgets": [],
       "schema": [
        {
         "metadata": "{}",
         "name": "path",
         "type": "\"string\""
        },
        {
         "metadata": "{}",
         "name": "name",
         "type": "\"string\""
        },
        {
         "metadata": "{}",
         "name": "size",
         "type": "\"long\""
        },
        {
         "metadata": "{}",
         "name": "modificationTime",
         "type": "\"long\""
        }
       ],
       "type": "table"
      }
     },
     "output_type": "display_data"
    }
   ],
   "source": [
    "\n",
    "display(dbutils.fs.ls(\"abfss://paris-olympic-data@parisolympicdataaristide.dfs.core.windows.net/raw-data\"))\n"
   ]
  },
  {
   "cell_type": "code",
   "execution_count": 0,
   "metadata": {
    "application/vnd.databricks.v1+cell": {
     "cellMetadata": {
      "byteLimit": 2048000,
      "rowLimit": 10000
     },
     "inputWidgets": {},
     "nuid": "72d4c501-b2eb-45ee-bd67-86fcf614686e",
     "showTitle": false,
     "tableResultSettingsMap": {},
     "title": ""
    }
   },
   "outputs": [],
   "source": [
    "athletes = spark.read.format(\"csv\").option(\"header\",\"true\").option(\"inferSchema\",\"true\").load(\"abfss://paris-olympic-data@parisolympicdataaristide.dfs.core.windows.net/raw-data/athletes.csv\")\n",
    "coaches = spark.read.format(\"csv\").option(\"header\",\"true\").option(\"inferSchema\",\"true\").load(\"abfss://paris-olympic-data@parisolympicdataaristide.dfs.core.windows.net/raw-data/coaches.csv\")\n",
    "total_medals = spark.read.format(\"csv\").option(\"header\",\"true\").option(\"inferSchema\",\"true\").load(\"abfss://paris-olympic-data@parisolympicdataaristide.dfs.core.windows.net/raw-data/medals_totals.csv\")\n",
    "medals = spark.read.format(\"csv\").option(\"header\",\"true\").option(\"inferSchema\",\"true\").load(\"abfss://paris-olympic-data@parisolympicdataaristide.dfs.core.windows.net/raw-data/medals.csv\")\n",
    "teams = spark.read.format(\"csv\").option(\"header\",\"true\").option(\"inferSchema\",\"true\").load(\"abfss://paris-olympic-data@parisolympicdataaristide.dfs.core.windows.net/raw-data/teams.csv\")\n",
    "     "
   ]
  },
  {
   "cell_type": "code",
   "execution_count": 0,
   "metadata": {
    "application/vnd.databricks.v1+cell": {
     "cellMetadata": {
      "byteLimit": 2048000,
      "rowLimit": 10000
     },
     "inputWidgets": {},
     "nuid": "ed4f55f6-be8e-4c73-a490-ccb29ad293b5",
     "showTitle": false,
     "tableResultSettingsMap": {},
     "title": ""
    }
   },
   "outputs": [
    {
     "output_type": "stream",
     "name": "stdout",
     "output_type": "stream",
     "text": [
      "+-------+-------+--------------------+---------------+--------------------+------+--------+------------+--------+------------+-----------+----------------+----------------+------+------+--------------------+--------------------+--------------------+-------------------+-------------+-------------------+-----------------+--------------------+--------------------+--------------------+--------------------+--------------------+--------------------+--------------------+--------------------+--------------------+--------------------+--------------------+--------------------+--------------------+--------------------+\n|   code|current|                name|     name_short|             name_tv|gender|function|country_code| country|country_long|nationality|nationality_long|nationality_code|height|weight|         disciplines|              events|          birth_date|        birth_place|birth_country|    residence_place|residence_country|            nickname|             hobbies|          occupation|           education|              family|                lang|               coach|              reason|                hero|           influence|          philosophy|  sporting_relatives|              ritual|        other_sports|\n+-------+-------+--------------------+---------------+--------------------+------+--------+------------+--------+------------+-----------+----------------+----------------+------+------+--------------------+--------------------+--------------------+-------------------+-------------+-------------------+-----------------+--------------------+--------------------+--------------------+--------------------+--------------------+--------------------+--------------------+--------------------+--------------------+--------------------+--------------------+--------------------+--------------------+--------------------+\n|1532872|   true|    ALEKSANYAN Artur|   ALEKSANYAN A|    Artur ALEKSANYAN|  Male| Athlete|         ARM| Armenia|     Armenia|    Armenia|         Armenia|             ARM|     0|     0|       ['Wrestling']|\"[\"\"Men's Greco-R...|            10/21/91|             GYUMRI|      Armenia|             GYUMRI|          Armenia|          White Bear|Playing and watch...|             Athlete|Graduated from Sh...|Father, Gevorg Al...|Armenian, English...|Gevorg Aleksanyan...|He followed his f...|Footballer Zinedi...|His father, Gevor...|\"\"\"Wrestling is m...|                NULL|                NULL|                NULL|\n|1532873|   true|      AMOYAN Malkhas|       AMOYAN M|      Malkhas AMOYAN|  Male| Athlete|         ARM| Armenia|     Armenia|    Armenia|         Armenia|             ARM|     0|     0|       ['Wrestling']|\"[\"\"Men's Greco-R...|             1/22/99|            YEREVAN|      Armenia|            YEREVAN|          Armenia|                NULL|                NULL|                NULL|                NULL|                NULL|            Armenian|                NULL|                NULL|                NULL|                NULL|\"\"\"To become a go...| you first have t...|        6 Oct 2018)\"|Uncle, Roman Amoy...|\n|1532874|   true|     GALSTYAN Slavik|     GALSTYAN S|     Slavik GALSTYAN|  Male| Athlete|         ARM| Armenia|     Armenia|    Armenia|         Armenia|             ARM|     0|     0|       ['Wrestling']|\"[\"\"Men's Greco-R...|            12/21/96|               NULL|         NULL|            YEREVAN|          Armenia|                NULL|                NULL|                NULL|                NULL|                NULL|            Armenian|Personal: Martin ...|                NULL|                NULL|                NULL|                NULL|                NULL|                NULL|                NULL|\n|1532944|   true|   HARUTYUNYAN Arsen|  HARUTYUNYAN A|   Arsen HARUTYUNYAN|  Male| Athlete|         ARM| Armenia|     Armenia|    Armenia|         Armenia|             ARM|     0|     0|       ['Wrestling']|\"[\"\"Men's Freesty...|            11/22/99|              MASIS|      Armenia|            YEREVAN|          Armenia|                NULL|                NULL|             Athlete|Graduated with a ...|Wife, Diana (marr...|            Armenian|National: Habetna...|While doing karat...|Wrestler Armen Na...|                NULL|“Nothing is impos...|                NULL|                NULL|                NULL|\n|1532945|   true|     TEVANYAN Vazgen|     TEVANYAN V|     Vazgen TEVANYAN|  Male| Athlete|         ARM| Armenia|     Armenia|    Armenia|         Armenia|             ARM|     0|     0|       ['Wrestling']|\"[\"\"Men's Freesty...|            10/27/99|          POKR VEDI|      Armenia|               NULL|          Armenia|                NULL|                NULL|             Athlete|Studied at the Ar...|Wife, Sona (marri...|   Armenian, Russian|National: Habetna...|“My family did no...|                NULL|                NULL|                NULL|                NULL|                NULL|                NULL|\n|1532951|   true|       ARENAS Lorena|       ARENAS L|       Lorena ARENAS|Female| Athlete|         COL|Colombia|    Colombia|   Colombia|        Colombia|             COL|   162|     0|       ['Athletics']|\"[\"\"Women's 20km ...| 'Marathon Race W...|            9/17/93|      PEREIRA|           Colombia|        MELBOURNE|           Australia|                NULL|                NULL|             Athlete|Physical Educatio...|Father, Jose Oton...|             Spanish|Personal: Brent V...|                NULL|Race walker Luis ...|                NULL|                NULL|                NULL|In competition sh...|\n|1533112|   true|     McKENZIE Ashley|     McKENZIE A|     Ashley McKENZIE|  Male| Athlete|         JAM| Jamaica|     Jamaica|    Jamaica|         Jamaica|             JAM|     0|     0|            ['Judo']|      ['Men -60 kg']|             7/17/89|             LONDON|Great Britain|          CAMBERLEY|    Great Britain|             Bad Boy|               Music|             Athlete|                NULL|One daughter, Lan...|             English|Personal and Nati...|\"\"\"I was thrown o...|       25 Jun 2024)\"|Boxer Muhammad Al...|\"\"\"My coach Luke ...|       25 Jun 2024)\"|                NULL|                NULL|\n|1533136|   true|BASS BITTAYE Gina...|BASS BITTAYE GM|Gina Mariam BASS ...|Female| Athlete|         GAM|  Gambia|      Gambia|     Gambia|          Gambia|             GAM|   161|     0|       ['Athletics']|  \"[\"\"Women's 100m\"\"|  \"\"Women's 200m\"\"]\"|             5/3/95|     TUBAKUTA|             Gambia|             NULL|                NULL|Earlier in her ca...|                NULL|Athlete, police o...|                NULL|Husband, Mustapha...|     English, French|Personal: Christo...|“I started runnin...|\"Sprinter Shelly-...| she is consisten...| 16 Jan 2023)</p>...| three fourth pla...|               2020)|\n|1533176|   true|     CAMARA Ebrahima|       CAMARA E|     Ebrahima CAMARA|  Male| Athlete|         GAM|  Gambia|      Gambia|     Gambia|          Gambia|             GAM|   178|     0|       ['Athletics']|  \"[\"\"Men's 100m\"\"]\"|             9/18/96|            BUNDUNG|       Gambia|             ANGERS|           France|                NULL|Running, watching...|Athlete, prison o...|                NULL|Married. One daug...|Arabic, English, ...|Personal: Christo...|\"\"\"I love running...|        7 Jul 2024)\"|Sprinter Gina Mar...|Momodou Lamin Kuj...|\"\"\"What does not ...|        7 Jul 2024)\"|                NULL|\n|1533188|   true| RUEDA SANTOS Lizeth| RUEDA SANTOS L| Lizeth RUEDA SANTOS|Female| Athlete|         MEX|  Mexico|      Mexico|     Mexico|          Mexico|             MEX|     0|     0|       ['Triathlon']|\"[\"\"Women's Indiv...|              3/7/94|        GUADALAJARA|       Mexico|             XALAPA|           Mexico|                NULL|                NULL|             Athlete|Studied Medicine ...|                NULL|             Spanish|Personal: Eugenio...|Was a competitive...|                NULL|                NULL|                NULL|                NULL|                NULL|Competed in marat...|\n|1533189|   true|TAPIA VIDAL Rosa ...| TAPIA VIDAL RM|Rosa Maria TAPIA ...|Female| Athlete|         MEX|  Mexico|      Mexico|     Mexico|          Mexico|             MEX|     0|     0|       ['Triathlon']|\"[\"\"Women's Indiv...|             8/27/97|         HERMOSILLO|       Mexico|        GUADALAJARA|           Mexico|                NULL|                NULL|             Athlete|Nutrition - Unive...|                NULL|    English, Spanish|Luis Miguel Cháve...|She always liked ...|                NULL|                NULL|                NULL|                NULL|                NULL|                NULL|\n|1533190|   true|   GRAJALES Crisanto|     GRAJALES C|   Crisanto GRAJALES|  Male| Athlete|         MEX|  Mexico|      Mexico|     Mexico|          Mexico|             MEX|     0|     0|       ['Triathlon']|\"[\"\"Men's Individ...|              5/6/87|             XALAPA|       Mexico|             XALAPA|           Mexico|Diamante Negro (B...|        Music, films|             Athlete|Sport Studies - U...|Father, Crisanto ...|             Spanish|Personal: Eugenio...|\"Both his parents...|       29 Jul 2016)\"|Athlete German Si...|                NULL|\"\"\"In triathlon t...|       29 Jul 2016)\"|                NULL|\n|1533208|   true|    MAAROUFOU Hachim|    MAAROUFOU H|    Hachim MAAROUFOU|  Male| Athlete|         COM| Comoros|     Comoros|    Comoros|         Comoros|             COM|   183|     0|       ['Athletics']|  \"[\"\"Men's 100m\"\"]\"|             2/13/97|          MARSEILLE|       France|          MARSEILLE|           France|                NULL|                NULL|             Athlete|                NULL|                NULL|              French|Personal: Franck ...|\"Started training...|       17 Jul 2003)\"|                NULL|                NULL|                NULL|                NULL|                NULL|\n|1533209|   true|        SAADI Maesha|        SAADI M|        Maesha SAADI|Female| Athlete|         COM| Comoros|     Comoros|    Comoros|         Comoros|             COM|     0|     0|        ['Swimming']|\"[\"\"Women's 50m F...|             1/16/07|             VIENNE|       France|SAINT-ROMAIN-EN-GAL|           France|                NULL|                NULL|    Athlete, student|                NULL|Fther, Abdou-Sala...|              French|Personal: Marc-Ol...|Recruited into th...|                NULL|                NULL|                NULL|                NULL|                NULL|                NULL|\n|1533230|   true|      DIOSDADO Nuria|     DIOSDADO N|      Nuria DIOSDADO|Female| Athlete|         MEX|  Mexico|      Mexico|     Mexico|          Mexico|             MEX|     0|     0|['Artistic Swimmi...|    ['Team', 'Duet']|             8/22/90|        GUADALAJARA|       Mexico|        MEXICO CITY|           Mexico|\"Nutria (\"\"Otter\"...|Spending time wit...|Athlete, sport so...|Studied Business ...|Husband, Javier A...|             Spanish|National: Adriana...|\"Began artistic s...|        6 Jan 2020)\"|Spanish artistic ...|         Her parents|\"\"\"Let everything...| no matter how di...|                NULL|\n|1533231|   true|       JIMENEZ Joana|      JIMENEZ J|       Joana JIMENEZ|Female| Athlete|         MEX|  Mexico|      Mexico|     Mexico|          Mexico|             MEX|     0|     0|['Artistic Swimmi...|    ['Team', 'Duet']|             8/19/93|ECATEPEC DE MORELOS|       Mexico|        MEXICO CITY|           Mexico|                 Joa|             Dancing|Athlete, sport so...|Studied undergrad...|      Brother, Jorge|             Spanish|National: Adriana...|\"Her parents enro...|              Mexico| the first team w...| 'Does that reall...|      at that moment| I wanted to be o...|                NULL|\n|1533232|   true|     SOBRINO Jessica|      SOBRINO J|     Jessica SOBRINO|Female| Athlete|         MEX|  Mexico|      Mexico|     Mexico|          Mexico|             MEX|     0|     0|['Artistic Swimmi...|            ['Team']|             5/26/94|        MEXICO CITY|       Mexico|        MEXICO CITY|           Mexico|                NULL|Going to the movi...|             Athlete|Studied Business ...|      Sister, Pamela|             Spanish|National: Adriana...|Followed her sist...|                NULL|                NULL|                NULL|\"Uncle, Salvador ...| finished 11th in...|                NULL|\n|1533234|   true|      ALFEREZ Regina|      ALFEREZ R|      Regina ALFEREZ|Female| Athlete|         MEX|  Mexico|      Mexico|     Mexico|          Mexico|             MEX|     0|     0|['Artistic Swimmi...|            ['Team']|             12/1/97|               NULL|         NULL|        MEXICO CITY|           Mexico|                NULL|Travel, photograp...|             Athlete|Studied at Tecmil...|                NULL|             Spanish|National: Adriana...|                NULL|                NULL|                NULL|                NULL|                NULL|                NULL|                NULL|\n|1533235|   true|   ARELLANO Fernanda|     ARELLANO F|   Fernanda ARELLANO|Female| Athlete|         MEX|  Mexico|      Mexico|     Mexico|          Mexico|             MEX|     0|     0|['Artistic Swimmi...|            ['Team']|             2/28/02|               NULL|         NULL|        MEXICO CITY|           Mexico|                NULL|                NULL|    Athlete, student|Studies at the Un...| Partner, Iker Casas|             Spanish|National: Adriana...|Trained in swimmi...|                NULL|                NULL|                NULL|Partner, Iker Cas...|                NULL|                NULL|\n|1533237|   true|      TOSCANO Pamela|      TOSCANO P|      Pamela TOSCANO|Female| Athlete|         MEX|  Mexico|      Mexico|     Mexico|          Mexico|             MEX|     0|     0|['Artistic Swimmi...|            ['Team']|             1/13/00|               NULL|         NULL|        GUADALAJARA|           Mexico|                NULL|        Choreography|Athlete, sport so...|Studied Business ...|                NULL|             Spanish|National: Adriana...|                NULL|                NULL|                NULL|                NULL|                NULL|                NULL|                NULL|\n+-------+-------+--------------------+---------------+--------------------+------+--------+------------+--------+------------+-----------+----------------+----------------+------+------+--------------------+--------------------+--------------------+-------------------+-------------+-------------------+-----------------+--------------------+--------------------+--------------------+--------------------+--------------------+--------------------+--------------------+--------------------+--------------------+--------------------+--------------------+--------------------+--------------------+--------------------+\nonly showing top 20 rows\n\n"
     ]
    }
   ],
   "source": [
    "athletes.show(20)"
   ]
  },
  {
   "cell_type": "code",
   "execution_count": 0,
   "metadata": {
    "application/vnd.databricks.v1+cell": {
     "cellMetadata": {
      "byteLimit": 2048000,
      "rowLimit": 10000
     },
     "inputWidgets": {},
     "nuid": "b10e7681-8849-488f-b3c1-666f5135032e",
     "showTitle": false,
     "tableResultSettingsMap": {},
     "title": ""
    }
   },
   "outputs": [
    {
     "output_type": "execute_result",
     "data": {
      "text/plain": [
       "11113"
      ]
     },
     "execution_count": 12,
     "metadata": {},
     "output_type": "execute_result"
    }
   ],
   "source": [
    "athletes.count()\n"
   ]
  },
  {
   "cell_type": "code",
   "execution_count": 0,
   "metadata": {
    "application/vnd.databricks.v1+cell": {
     "cellMetadata": {
      "byteLimit": 2048000,
      "rowLimit": 10000
     },
     "inputWidgets": {},
     "nuid": "19935e4a-655f-425b-bbdd-edad87554ce6",
     "showTitle": false,
     "tableResultSettingsMap": {},
     "title": ""
    }
   },
   "outputs": [
    {
     "output_type": "stream",
     "name": "stdout",
     "output_type": "stream",
     "text": [
      "root\n |-- code: integer (nullable = true)\n |-- current: boolean (nullable = true)\n |-- name: string (nullable = true)\n |-- name_short: string (nullable = true)\n |-- name_tv: string (nullable = true)\n |-- gender: string (nullable = true)\n |-- function: string (nullable = true)\n |-- country_code: string (nullable = true)\n |-- country: string (nullable = true)\n |-- country_long: string (nullable = true)\n |-- nationality: string (nullable = true)\n |-- nationality_long: string (nullable = true)\n |-- nationality_code: string (nullable = true)\n |-- height: integer (nullable = true)\n |-- weight: integer (nullable = true)\n |-- disciplines: string (nullable = true)\n |-- events: string (nullable = true)\n |-- birth_date: string (nullable = true)\n |-- birth_place: string (nullable = true)\n |-- birth_country: string (nullable = true)\n |-- residence_place: string (nullable = true)\n |-- residence_country: string (nullable = true)\n |-- nickname: string (nullable = true)\n |-- hobbies: string (nullable = true)\n |-- occupation: string (nullable = true)\n |-- education: string (nullable = true)\n |-- family: string (nullable = true)\n |-- lang: string (nullable = true)\n |-- coach: string (nullable = true)\n |-- reason: string (nullable = true)\n |-- hero: string (nullable = true)\n |-- influence: string (nullable = true)\n |-- philosophy: string (nullable = true)\n |-- sporting_relatives: string (nullable = true)\n |-- ritual: string (nullable = true)\n |-- other_sports: string (nullable = true)\n\n"
     ]
    }
   ],
   "source": [
    "athletes.printSchema()"
   ]
  },
  {
   "cell_type": "code",
   "execution_count": 0,
   "metadata": {
    "application/vnd.databricks.v1+cell": {
     "cellMetadata": {
      "byteLimit": 2048000,
      "rowLimit": 10000
     },
     "inputWidgets": {},
     "nuid": "afa72f75-c179-45be-8a7c-06faee7acc9b",
     "showTitle": false,
     "tableResultSettingsMap": {},
     "title": ""
    }
   },
   "outputs": [],
   "source": [
    "athletes = athletes.withColumn(\"birth_date\",col(\"name\").cast(DateType()))"
   ]
  },
  {
   "cell_type": "code",
   "execution_count": 0,
   "metadata": {
    "application/vnd.databricks.v1+cell": {
     "cellMetadata": {
      "byteLimit": 2048000,
      "rowLimit": 10000
     },
     "inputWidgets": {},
     "nuid": "67dd2dc9-d382-4324-80a0-87a08f04530c",
     "showTitle": false,
     "tableResultSettingsMap": {},
     "title": ""
    }
   },
   "outputs": [
    {
     "output_type": "stream",
     "name": "stdout",
     "output_type": "stream",
     "text": [
      "root\n |-- code: integer (nullable = true)\n |-- current: boolean (nullable = true)\n |-- name: string (nullable = true)\n |-- gender: string (nullable = true)\n |-- function: string (nullable = true)\n |-- category: string (nullable = true)\n |-- country_code: string (nullable = true)\n |-- country: string (nullable = true)\n |-- country_long: string (nullable = true)\n |-- disciplines: string (nullable = true)\n |-- events: string (nullable = true)\n |-- birth_date: date (nullable = true)\n\n"
     ]
    }
   ],
   "source": [
    "coaches.printSchema(20)"
   ]
  },
  {
   "cell_type": "code",
   "execution_count": 0,
   "metadata": {
    "application/vnd.databricks.v1+cell": {
     "cellMetadata": {
      "byteLimit": 2048000,
      "rowLimit": 10000
     },
     "inputWidgets": {},
     "nuid": "e5a45c65-18d4-4f02-9ed9-9feb37bdcd4e",
     "showTitle": false,
     "tableResultSettingsMap": {},
     "title": ""
    }
   },
   "outputs": [
    {
     "output_type": "display_data",
     "data": {
      "text/html": [
       "<style scoped>\n",
       "  .table-result-container {\n",
       "    max-height: 300px;\n",
       "    overflow: auto;\n",
       "  }\n",
       "  table, th, td {\n",
       "    border: 1px solid black;\n",
       "    border-collapse: collapse;\n",
       "  }\n",
       "  th, td {\n",
       "    padding: 5px;\n",
       "  }\n",
       "  th {\n",
       "    text-align: left;\n",
       "  }\n",
       "</style><div class='table-result-container'><table class='table-result'><thead style='background-color: white'><tr><th>code</th><th>current</th><th>name</th><th>gender</th><th>function</th><th>category</th><th>country_code</th><th>country</th><th>country_long</th><th>disciplines</th><th>events</th><th>birth_date</th></tr></thead><tbody><tr><td>1533246</td><td>true</td><td>PEDRERO Ofelia</td><td>Female</td><td>Coach</td><td>C</td><td>MEX</td><td>Mexico</td><td>Mexico</td><td>Artistic Swimming</td><td>Team</td><td>1988-03-28</td></tr><tr><td>1535775</td><td>true</td><td>RADHI SHENAISHIL</td><td>Male</td><td>Head Coach</td><td>C</td><td>IRQ</td><td>Iraq</td><td>Iraq</td><td>Football</td><td>Men</td><td>1965-07-01</td></tr><tr><td>1536055</td><td>true</td><td>AFLAKIKHAMSEH Majid</td><td>Male</td><td>Coach</td><td>C</td><td>IRI</td><td>IR Iran</td><td>Islamic Republic of Iran</td><td>Taekwondo</td><td>null</td><td>1973-08-26</td></tr><tr><td>1536059</td><td>true</td><td>YOUSEFY Mehrdad</td><td>Male</td><td>Coach</td><td>C</td><td>IRI</td><td>IR Iran</td><td>Islamic Republic of Iran</td><td>Taekwondo</td><td>null</td><td>1972-06-12</td></tr><tr><td>1536060</td><td>true</td><td>MADDAH Minoo</td><td>Female</td><td>Coach</td><td>C</td><td>IRI</td><td>IR Iran</td><td>Islamic Republic of Iran</td><td>Taekwondo</td><td>null</td><td>1976-05-17</td></tr><tr><td>1536328</td><td>true</td><td>LOFTUS Adriana</td><td>Female</td><td>Coach</td><td>C</td><td>MEX</td><td>Mexico</td><td>Mexico</td><td>Artistic Swimming</td><td>Team</td><td>1958-06-28</td></tr><tr><td>1538313</td><td>true</td><td>FERRARA Fernando</td><td>Male</td><td>Head Coach</td><td>C</td><td>ARG</td><td>Argentina</td><td>Argentina</td><td>Hockey</td><td>null</td><td>1968-07-24</td></tr><tr><td>1538315</td><td>true</td><td>GULLA Alejandra</td><td>Female</td><td>Assistant Coach</td><td>C</td><td>ARG</td><td>Argentina</td><td>Argentina</td><td>Hockey</td><td>Women</td><td>1977-07-04</td></tr><tr><td>1538317</td><td>true</td><td>CAPURRO Santiago</td><td>Male</td><td>Assistant Coach</td><td>C</td><td>ARG</td><td>Argentina</td><td>Argentina</td><td>Hockey</td><td>null</td><td>1975-04-08</td></tr><tr><td>1538745</td><td>true</td><td>RONCONI Mariano</td><td>Male</td><td>Head Coach</td><td>C</td><td>ARG</td><td>Argentina</td><td>Argentina</td><td>Hockey</td><td>null</td><td>null</td></tr></tbody></table></div>"
      ]
     },
     "metadata": {
      "application/vnd.databricks.v1+output": {
       "addedWidgets": {},
       "aggData": [],
       "aggError": "",
       "aggOverflow": false,
       "aggSchema": [],
       "aggSeriesLimitReached": false,
       "aggType": "",
       "arguments": {},
       "columnCustomDisplayInfos": {},
       "data": [
        [
         1533246,
         true,
         "PEDRERO Ofelia",
         "Female",
         "Coach",
         "C",
         "MEX",
         "Mexico",
         "Mexico",
         "Artistic Swimming",
         "Team",
         "1988-03-28"
        ],
        [
         1535775,
         true,
         "RADHI SHENAISHIL",
         "Male",
         "Head Coach",
         "C",
         "IRQ",
         "Iraq",
         "Iraq",
         "Football",
         "Men",
         "1965-07-01"
        ],
        [
         1536055,
         true,
         "AFLAKIKHAMSEH Majid",
         "Male",
         "Coach",
         "C",
         "IRI",
         "IR Iran",
         "Islamic Republic of Iran",
         "Taekwondo",
         null,
         "1973-08-26"
        ],
        [
         1536059,
         true,
         "YOUSEFY Mehrdad",
         "Male",
         "Coach",
         "C",
         "IRI",
         "IR Iran",
         "Islamic Republic of Iran",
         "Taekwondo",
         null,
         "1972-06-12"
        ],
        [
         1536060,
         true,
         "MADDAH Minoo",
         "Female",
         "Coach",
         "C",
         "IRI",
         "IR Iran",
         "Islamic Republic of Iran",
         "Taekwondo",
         null,
         "1976-05-17"
        ],
        [
         1536328,
         true,
         "LOFTUS Adriana",
         "Female",
         "Coach",
         "C",
         "MEX",
         "Mexico",
         "Mexico",
         "Artistic Swimming",
         "Team",
         "1958-06-28"
        ],
        [
         1538313,
         true,
         "FERRARA Fernando",
         "Male",
         "Head Coach",
         "C",
         "ARG",
         "Argentina",
         "Argentina",
         "Hockey",
         null,
         "1968-07-24"
        ],
        [
         1538315,
         true,
         "GULLA Alejandra",
         "Female",
         "Assistant Coach",
         "C",
         "ARG",
         "Argentina",
         "Argentina",
         "Hockey",
         "Women",
         "1977-07-04"
        ],
        [
         1538317,
         true,
         "CAPURRO Santiago",
         "Male",
         "Assistant Coach",
         "C",
         "ARG",
         "Argentina",
         "Argentina",
         "Hockey",
         null,
         "1975-04-08"
        ],
        [
         1538745,
         true,
         "RONCONI Mariano",
         "Male",
         "Head Coach",
         "C",
         "ARG",
         "Argentina",
         "Argentina",
         "Hockey",
         null,
         null
        ]
       ],
       "datasetInfos": [],
       "dbfsResultPath": null,
       "isJsonSchema": true,
       "metadata": {},
       "overflow": false,
       "plotOptions": {
        "customPlotOptions": {},
        "displayType": "table",
        "pivotAggregation": null,
        "pivotColumns": null,
        "xColumns": null,
        "yColumns": null
       },
       "removedWidgets": [],
       "schema": [
        {
         "metadata": "{}",
         "name": "code",
         "type": "\"integer\""
        },
        {
         "metadata": "{}",
         "name": "current",
         "type": "\"boolean\""
        },
        {
         "metadata": "{}",
         "name": "name",
         "type": "\"string\""
        },
        {
         "metadata": "{}",
         "name": "gender",
         "type": "\"string\""
        },
        {
         "metadata": "{}",
         "name": "function",
         "type": "\"string\""
        },
        {
         "metadata": "{}",
         "name": "category",
         "type": "\"string\""
        },
        {
         "metadata": "{}",
         "name": "country_code",
         "type": "\"string\""
        },
        {
         "metadata": "{}",
         "name": "country",
         "type": "\"string\""
        },
        {
         "metadata": "{}",
         "name": "country_long",
         "type": "\"string\""
        },
        {
         "metadata": "{}",
         "name": "disciplines",
         "type": "\"string\""
        },
        {
         "metadata": "{}",
         "name": "events",
         "type": "\"string\""
        },
        {
         "metadata": "{\"__detected_date_formats\":\"yyyy-M-d\"}",
         "name": "birth_date",
         "type": "\"date\""
        }
       ],
       "type": "table"
      }
     },
     "output_type": "display_data"
    }
   ],
   "source": [
    "display(coaches.limit(10))"
   ]
  },
  {
   "cell_type": "code",
   "execution_count": 0,
   "metadata": {
    "application/vnd.databricks.v1+cell": {
     "cellMetadata": {
      "byteLimit": 2048000,
      "rowLimit": 10000
     },
     "inputWidgets": {},
     "nuid": "c5638366-09bd-4678-a1bd-20f1e2b09496",
     "showTitle": false,
     "tableResultSettingsMap": {},
     "title": ""
    }
   },
   "outputs": [
    {
     "output_type": "display_data",
     "data": {
      "text/html": [
       "<style scoped>\n",
       "  .table-result-container {\n",
       "    max-height: 300px;\n",
       "    overflow: auto;\n",
       "  }\n",
       "  table, th, td {\n",
       "    border: 1px solid black;\n",
       "    border-collapse: collapse;\n",
       "  }\n",
       "  th, td {\n",
       "    padding: 5px;\n",
       "  }\n",
       "  th {\n",
       "    text-align: left;\n",
       "  }\n",
       "</style><div class='table-result-container'><table class='table-result'><thead style='background-color: white'><tr><th>code</th><th>current</th><th>name</th><th>name_short</th><th>name_tv</th><th>gender</th><th>function</th><th>country_code</th><th>country</th><th>country_long</th><th>nationality</th><th>nationality_long</th><th>nationality_code</th><th>height</th><th>weight</th><th>disciplines</th><th>events</th><th>birth_place</th><th>birth_country</th><th>residence_place</th><th>residence_country</th><th>occupation</th><th>education</th><th>family</th><th>lang</th><th>coach</th><th>reason</th></tr></thead><tbody><tr><td>1532872</td><td>true</td><td>ALEKSANYAN Artur</td><td>ALEKSANYAN A</td><td>Artur ALEKSANYAN</td><td>Male</td><td>Athlete</td><td>ARM</td><td>Armenia</td><td>Armenia</td><td>Armenia</td><td>Armenia</td><td>ARM</td><td>0</td><td>0</td><td>['Wrestling']</td><td>\"[\"\"Men's Greco-Roman 97kg\"\"]\"</td><td>GYUMRI</td><td>Armenia</td><td>GYUMRI</td><td>Armenia</td><td>Athlete</td><td>Graduated from Shirak State University (Gyumri, ARM)</td><td>Father, Gevorg Aleksanyan</td><td>Armenian, English, Russian</td><td>Gevorg Aleksanyan (ARM), father</td><td>He followed his father and his uncle into the sport</td></tr><tr><td>1532873</td><td>true</td><td>AMOYAN Malkhas</td><td>AMOYAN M</td><td>Malkhas AMOYAN</td><td>Male</td><td>Athlete</td><td>ARM</td><td>Armenia</td><td>Armenia</td><td>Armenia</td><td>Armenia</td><td>ARM</td><td>0</td><td>0</td><td>['Wrestling']</td><td>\"[\"\"Men's Greco-Roman 77kg\"\"]\"</td><td>YEREVAN</td><td>Armenia</td><td>YEREVAN</td><td>Armenia</td><td>null</td><td>null</td><td>null</td><td>Armenian</td><td>null</td><td>null</td></tr><tr><td>1532874</td><td>true</td><td>GALSTYAN Slavik</td><td>GALSTYAN S</td><td>Slavik GALSTYAN</td><td>Male</td><td>Athlete</td><td>ARM</td><td>Armenia</td><td>Armenia</td><td>Armenia</td><td>Armenia</td><td>ARM</td><td>0</td><td>0</td><td>['Wrestling']</td><td>\"[\"\"Men's Greco-Roman 67kg\"\"]\"</td><td>null</td><td>null</td><td>YEREVAN</td><td>Armenia</td><td>null</td><td>null</td><td>null</td><td>Armenian</td><td>Personal: Martin Alekhanyan (ARM).<br>National: Armen Babalaryan (ARM)</td><td>null</td></tr><tr><td>1532944</td><td>true</td><td>HARUTYUNYAN Arsen</td><td>HARUTYUNYAN A</td><td>Arsen HARUTYUNYAN</td><td>Male</td><td>Athlete</td><td>ARM</td><td>Armenia</td><td>Armenia</td><td>Armenia</td><td>Armenia</td><td>ARM</td><td>0</td><td>0</td><td>['Wrestling']</td><td>\"[\"\"Men's Freestyle 57kg\"\"]\"</td><td>MASIS</td><td>Armenia</td><td>YEREVAN</td><td>Armenia</td><td>Athlete</td><td>Graduated with a Master's degree from the Armenian State Institute of Physical Culture and Sport (2023)</td><td>Wife, Diana (married October 2022). Daughter, Marias (born 2023)</td><td>Armenian</td><td>National: Habetnak Kurghinyan</td><td>While doing karate he noticed wrestlers training and decided to give it a try. He also tried judo but his father, a former wrestler, did not allow him to do both, so he chose wrestling. (sport.mediamax.am, 10 July 2017)</td></tr><tr><td>1532945</td><td>true</td><td>TEVANYAN Vazgen</td><td>TEVANYAN V</td><td>Vazgen TEVANYAN</td><td>Male</td><td>Athlete</td><td>ARM</td><td>Armenia</td><td>Armenia</td><td>Armenia</td><td>Armenia</td><td>ARM</td><td>0</td><td>0</td><td>['Wrestling']</td><td>\"[\"\"Men's Freestyle 65kg\"\"]\"</td><td>POKR VEDI</td><td>Armenia</td><td>null</td><td>Armenia</td><td>Athlete</td><td>Studied at the Armenian State Institute of Physical Culture and Sport (Yerevan, ARM)</td><td>Wife, Sona (married November 2023)</td><td>Armenian, Russian</td><td>National: Habetnak Kurghinyan (ARM)</td><td>“My family did not like wrestling very much. At first I wanted to do boxing but my older friends advised me to go to wrestling training, and after a week, I started to like the sport.” (myInfo)</td></tr><tr><td>1532951</td><td>true</td><td>ARENAS Lorena</td><td>ARENAS L</td><td>Lorena ARENAS</td><td>Female</td><td>Athlete</td><td>COL</td><td>Colombia</td><td>Colombia</td><td>Colombia</td><td>Colombia</td><td>COL</td><td>162</td><td>0</td><td>['Athletics']</td><td>\"[\"\"Women's 20km Race Walk\"\"</td><td>9/17/93</td><td>PEREIRA</td><td>Colombia</td><td>MELBOURNE</td><td>null</td><td>Athlete</td><td>Physical Education at Jaime Isaza Cadavid Colombian Polytechnic, Medellin (COL)</td><td>Father, Jose Otoniel. Mother, Maria Rudy. Has three siblings</td><td>Spanish</td><td>Personal: Brent Vallance (AUS)</td></tr><tr><td>1533112</td><td>true</td><td>McKENZIE Ashley</td><td>McKENZIE A</td><td>Ashley McKENZIE</td><td>Male</td><td>Athlete</td><td>JAM</td><td>Jamaica</td><td>Jamaica</td><td>Jamaica</td><td>Jamaica</td><td>JAM</td><td>0</td><td>0</td><td>['Judo']</td><td>['Men -60 kg']</td><td>LONDON</td><td>Great Britain</td><td>CAMBERLEY</td><td>Great Britain</td><td>Athlete</td><td>null</td><td>One daughter, Lana-Rose, who lives in France</td><td>English</td><td>Personal and National: Luke Preston (GBR)</td><td>\"\"\"I was thrown over [an argument about] a Pokemon card and wanted to learn to throw immediately.\"\" (Athlete</td></tr><tr><td>1533136</td><td>true</td><td>BASS BITTAYE Gina Mariam</td><td>BASS BITTAYE GM</td><td>Gina Mariam BASS BITTAYE</td><td>Female</td><td>Athlete</td><td>GAM</td><td>Gambia</td><td>Gambia</td><td>Gambia</td><td>Gambia</td><td>GAM</td><td>161</td><td>0</td><td>['Athletics']</td><td>\"[\"\"Women's 100m\"\"</td><td>5/3/95</td><td>TUBAKUTA</td><td>Gambia</td><td>null</td><td>null</td><td>Athlete, police officer (sub-inspector)</td><td>null</td><td>Husband, Mustapha Bittaye - physical education lecturer and football referee (married October 2023). One sister and two brothers</td><td>English, French</td><td>Personal: Christophe Belliard (FRA)</td></tr><tr><td>1533176</td><td>true</td><td>CAMARA Ebrahima</td><td>CAMARA E</td><td>Ebrahima CAMARA</td><td>Male</td><td>Athlete</td><td>GAM</td><td>Gambia</td><td>Gambia</td><td>Gambia</td><td>Gambia</td><td>GAM</td><td>178</td><td>0</td><td>['Athletics']</td><td>\"[\"\"Men's 100m\"\"]\"</td><td>BUNDUNG</td><td>Gambia</td><td>ANGERS</td><td>France</td><td>Athlete, prison officer</td><td>null</td><td>Married. One daughter. Has three brothers</td><td>Arabic, English, French, Mandinka, Wolof</td><td>Personal: Christophe Belliard (FRA)</td><td>\"\"\"I love running and I was fast a child.\"\" (Athlete</td></tr><tr><td>1533188</td><td>true</td><td>RUEDA SANTOS Lizeth</td><td>RUEDA SANTOS L</td><td>Lizeth RUEDA SANTOS</td><td>Female</td><td>Athlete</td><td>MEX</td><td>Mexico</td><td>Mexico</td><td>Mexico</td><td>Mexico</td><td>MEX</td><td>0</td><td>0</td><td>['Triathlon']</td><td>\"[\"\"Women's Individual\"\"]\"</td><td>GUADALAJARA</td><td>Mexico</td><td>XALAPA</td><td>Mexico</td><td>Athlete</td><td>Studied Medicine at the University of Guadalajara (MEX)</td><td>null</td><td>Spanish</td><td>Personal: Eugenio Chimal (MEX)</td><td>Was a competitive swimmer from age 12 and went on to race internationally in marathon swimming</td></tr></tbody></table></div>"
      ]
     },
     "metadata": {
      "application/vnd.databricks.v1+output": {
       "addedWidgets": {},
       "aggData": [],
       "aggError": "",
       "aggOverflow": false,
       "aggSchema": [],
       "aggSeriesLimitReached": false,
       "aggType": "",
       "arguments": {},
       "columnCustomDisplayInfos": {},
       "data": [
        [
         1532872,
         true,
         "ALEKSANYAN Artur",
         "ALEKSANYAN A",
         "Artur ALEKSANYAN",
         "Male",
         "Athlete",
         "ARM",
         "Armenia",
         "Armenia",
         "Armenia",
         "Armenia",
         "ARM",
         0,
         0,
         "['Wrestling']",
         "\"[\"\"Men's Greco-Roman 97kg\"\"]\"",
         "GYUMRI",
         "Armenia",
         "GYUMRI",
         "Armenia",
         "Athlete",
         "Graduated from Shirak State University (Gyumri, ARM)",
         "Father, Gevorg Aleksanyan",
         "Armenian, English, Russian",
         "Gevorg Aleksanyan (ARM), father",
         "He followed his father and his uncle into the sport"
        ],
        [
         1532873,
         true,
         "AMOYAN Malkhas",
         "AMOYAN M",
         "Malkhas AMOYAN",
         "Male",
         "Athlete",
         "ARM",
         "Armenia",
         "Armenia",
         "Armenia",
         "Armenia",
         "ARM",
         0,
         0,
         "['Wrestling']",
         "\"[\"\"Men's Greco-Roman 77kg\"\"]\"",
         "YEREVAN",
         "Armenia",
         "YEREVAN",
         "Armenia",
         null,
         null,
         null,
         "Armenian",
         null,
         null
        ],
        [
         1532874,
         true,
         "GALSTYAN Slavik",
         "GALSTYAN S",
         "Slavik GALSTYAN",
         "Male",
         "Athlete",
         "ARM",
         "Armenia",
         "Armenia",
         "Armenia",
         "Armenia",
         "ARM",
         0,
         0,
         "['Wrestling']",
         "\"[\"\"Men's Greco-Roman 67kg\"\"]\"",
         null,
         null,
         "YEREVAN",
         "Armenia",
         null,
         null,
         null,
         "Armenian",
         "Personal: Martin Alekhanyan (ARM).<br>National: Armen Babalaryan (ARM)",
         null
        ],
        [
         1532944,
         true,
         "HARUTYUNYAN Arsen",
         "HARUTYUNYAN A",
         "Arsen HARUTYUNYAN",
         "Male",
         "Athlete",
         "ARM",
         "Armenia",
         "Armenia",
         "Armenia",
         "Armenia",
         "ARM",
         0,
         0,
         "['Wrestling']",
         "\"[\"\"Men's Freestyle 57kg\"\"]\"",
         "MASIS",
         "Armenia",
         "YEREVAN",
         "Armenia",
         "Athlete",
         "Graduated with a Master's degree from the Armenian State Institute of Physical Culture and Sport (2023)",
         "Wife, Diana (married October 2022). Daughter, Marias (born 2023)",
         "Armenian",
         "National: Habetnak Kurghinyan",
         "While doing karate he noticed wrestlers training and decided to give it a try. He also tried judo but his father, a former wrestler, did not allow him to do both, so he chose wrestling. (sport.mediamax.am, 10 July 2017)"
        ],
        [
         1532945,
         true,
         "TEVANYAN Vazgen",
         "TEVANYAN V",
         "Vazgen TEVANYAN",
         "Male",
         "Athlete",
         "ARM",
         "Armenia",
         "Armenia",
         "Armenia",
         "Armenia",
         "ARM",
         0,
         0,
         "['Wrestling']",
         "\"[\"\"Men's Freestyle 65kg\"\"]\"",
         "POKR VEDI",
         "Armenia",
         null,
         "Armenia",
         "Athlete",
         "Studied at the Armenian State Institute of Physical Culture and Sport (Yerevan, ARM)",
         "Wife, Sona (married November 2023)",
         "Armenian, Russian",
         "National: Habetnak Kurghinyan (ARM)",
         "“My family did not like wrestling very much. At first I wanted to do boxing but my older friends advised me to go to wrestling training, and after a week, I started to like the sport.” (myInfo)"
        ],
        [
         1532951,
         true,
         "ARENAS Lorena",
         "ARENAS L",
         "Lorena ARENAS",
         "Female",
         "Athlete",
         "COL",
         "Colombia",
         "Colombia",
         "Colombia",
         "Colombia",
         "COL",
         162,
         0,
         "['Athletics']",
         "\"[\"\"Women's 20km Race Walk\"\"",
         "9/17/93",
         "PEREIRA",
         "Colombia",
         "MELBOURNE",
         null,
         "Athlete",
         "Physical Education at Jaime Isaza Cadavid Colombian Polytechnic, Medellin (COL)",
         "Father, Jose Otoniel. Mother, Maria Rudy. Has three siblings",
         "Spanish",
         "Personal: Brent Vallance (AUS)"
        ],
        [
         1533112,
         true,
         "McKENZIE Ashley",
         "McKENZIE A",
         "Ashley McKENZIE",
         "Male",
         "Athlete",
         "JAM",
         "Jamaica",
         "Jamaica",
         "Jamaica",
         "Jamaica",
         "JAM",
         0,
         0,
         "['Judo']",
         "['Men -60 kg']",
         "LONDON",
         "Great Britain",
         "CAMBERLEY",
         "Great Britain",
         "Athlete",
         null,
         "One daughter, Lana-Rose, who lives in France",
         "English",
         "Personal and National: Luke Preston (GBR)",
         "\"\"\"I was thrown over [an argument about] a Pokemon card and wanted to learn to throw immediately.\"\" (Athlete"
        ],
        [
         1533136,
         true,
         "BASS BITTAYE Gina Mariam",
         "BASS BITTAYE GM",
         "Gina Mariam BASS BITTAYE",
         "Female",
         "Athlete",
         "GAM",
         "Gambia",
         "Gambia",
         "Gambia",
         "Gambia",
         "GAM",
         161,
         0,
         "['Athletics']",
         "\"[\"\"Women's 100m\"\"",
         "5/3/95",
         "TUBAKUTA",
         "Gambia",
         null,
         null,
         "Athlete, police officer (sub-inspector)",
         null,
         "Husband, Mustapha Bittaye - physical education lecturer and football referee (married October 2023). One sister and two brothers",
         "English, French",
         "Personal: Christophe Belliard (FRA)"
        ],
        [
         1533176,
         true,
         "CAMARA Ebrahima",
         "CAMARA E",
         "Ebrahima CAMARA",
         "Male",
         "Athlete",
         "GAM",
         "Gambia",
         "Gambia",
         "Gambia",
         "Gambia",
         "GAM",
         178,
         0,
         "['Athletics']",
         "\"[\"\"Men's 100m\"\"]\"",
         "BUNDUNG",
         "Gambia",
         "ANGERS",
         "France",
         "Athlete, prison officer",
         null,
         "Married. One daughter. Has three brothers",
         "Arabic, English, French, Mandinka, Wolof",
         "Personal: Christophe Belliard (FRA)",
         "\"\"\"I love running and I was fast a child.\"\" (Athlete"
        ],
        [
         1533188,
         true,
         "RUEDA SANTOS Lizeth",
         "RUEDA SANTOS L",
         "Lizeth RUEDA SANTOS",
         "Female",
         "Athlete",
         "MEX",
         "Mexico",
         "Mexico",
         "Mexico",
         "Mexico",
         "MEX",
         0,
         0,
         "['Triathlon']",
         "\"[\"\"Women's Individual\"\"]\"",
         "GUADALAJARA",
         "Mexico",
         "XALAPA",
         "Mexico",
         "Athlete",
         "Studied Medicine at the University of Guadalajara (MEX)",
         null,
         "Spanish",
         "Personal: Eugenio Chimal (MEX)",
         "Was a competitive swimmer from age 12 and went on to race internationally in marathon swimming"
        ]
       ],
       "datasetInfos": [],
       "dbfsResultPath": null,
       "isJsonSchema": true,
       "metadata": {},
       "overflow": false,
       "plotOptions": {
        "customPlotOptions": {},
        "displayType": "table",
        "pivotAggregation": null,
        "pivotColumns": null,
        "xColumns": null,
        "yColumns": null
       },
       "removedWidgets": [],
       "schema": [
        {
         "metadata": "{}",
         "name": "code",
         "type": "\"integer\""
        },
        {
         "metadata": "{}",
         "name": "current",
         "type": "\"boolean\""
        },
        {
         "metadata": "{}",
         "name": "name",
         "type": "\"string\""
        },
        {
         "metadata": "{}",
         "name": "name_short",
         "type": "\"string\""
        },
        {
         "metadata": "{}",
         "name": "name_tv",
         "type": "\"string\""
        },
        {
         "metadata": "{}",
         "name": "gender",
         "type": "\"string\""
        },
        {
         "metadata": "{}",
         "name": "function",
         "type": "\"string\""
        },
        {
         "metadata": "{}",
         "name": "country_code",
         "type": "\"string\""
        },
        {
         "metadata": "{}",
         "name": "country",
         "type": "\"string\""
        },
        {
         "metadata": "{}",
         "name": "country_long",
         "type": "\"string\""
        },
        {
         "metadata": "{}",
         "name": "nationality",
         "type": "\"string\""
        },
        {
         "metadata": "{}",
         "name": "nationality_long",
         "type": "\"string\""
        },
        {
         "metadata": "{}",
         "name": "nationality_code",
         "type": "\"string\""
        },
        {
         "metadata": "{}",
         "name": "height",
         "type": "\"integer\""
        },
        {
         "metadata": "{}",
         "name": "weight",
         "type": "\"integer\""
        },
        {
         "metadata": "{}",
         "name": "disciplines",
         "type": "\"string\""
        },
        {
         "metadata": "{}",
         "name": "events",
         "type": "\"string\""
        },
        {
         "metadata": "{}",
         "name": "birth_place",
         "type": "\"string\""
        },
        {
         "metadata": "{}",
         "name": "birth_country",
         "type": "\"string\""
        },
        {
         "metadata": "{}",
         "name": "residence_place",
         "type": "\"string\""
        },
        {
         "metadata": "{}",
         "name": "residence_country",
         "type": "\"string\""
        },
        {
         "metadata": "{}",
         "name": "occupation",
         "type": "\"string\""
        },
        {
         "metadata": "{}",
         "name": "education",
         "type": "\"string\""
        },
        {
         "metadata": "{}",
         "name": "family",
         "type": "\"string\""
        },
        {
         "metadata": "{}",
         "name": "lang",
         "type": "\"string\""
        },
        {
         "metadata": "{}",
         "name": "coach",
         "type": "\"string\""
        },
        {
         "metadata": "{}",
         "name": "reason",
         "type": "\"string\""
        }
       ],
       "type": "table"
      }
     },
     "output_type": "display_data"
    }
   ],
   "source": [
    "# Calculate the total number of rows in the DataFrame\n",
    "total_rows1 = athletes.count()\n",
    "\n",
    "# Create a list of columns to drop if they have more than 50% missing values\n",
    "columns_to_drop1 = []\n",
    "\n",
    "# Iterate through the columns and check if the number of missing values exceeds 50% of total rows\n",
    "for column in athletes.columns:\n",
    "    missing_count1 = athletes.filter(col(column).isNull()).count()  # Count missing (null) values in the column\n",
    "    if missing_count1 / total_rows1 > 0.5:\n",
    "        columns_to_drop1.append(column)\n",
    "\n",
    "# Drop the columns with more than 50% missing values\n",
    "athletes_cleaned = athletes.drop(*columns_to_drop1)\n",
    "\n",
    "# Show the cleaned DataFrame\n",
    "display(athletes_cleaned.limit(10))"
   ]
  },
  {
   "cell_type": "code",
   "execution_count": 0,
   "metadata": {
    "application/vnd.databricks.v1+cell": {
     "cellMetadata": {
      "byteLimit": 2048000,
      "rowLimit": 10000
     },
     "inputWidgets": {},
     "nuid": "60746ce5-910a-4a41-a9ab-bd156d00023b",
     "showTitle": false,
     "tableResultSettingsMap": {},
     "title": ""
    }
   },
   "outputs": [
    {
     "output_type": "stream",
     "name": "stdout",
     "output_type": "stream",
     "text": [
      "root\n |-- code: integer (nullable = true)\n |-- current: boolean (nullable = true)\n |-- name: string (nullable = true)\n |-- name_short: string (nullable = true)\n |-- name_tv: string (nullable = true)\n |-- gender: string (nullable = true)\n |-- function: string (nullable = true)\n |-- country_code: string (nullable = true)\n |-- country: string (nullable = true)\n |-- country_long: string (nullable = true)\n |-- nationality: string (nullable = true)\n |-- nationality_long: string (nullable = true)\n |-- nationality_code: string (nullable = true)\n |-- height: integer (nullable = true)\n |-- weight: integer (nullable = true)\n |-- disciplines: string (nullable = true)\n |-- events: string (nullable = true)\n |-- birth_place: string (nullable = true)\n |-- birth_country: string (nullable = true)\n |-- residence_place: string (nullable = true)\n |-- residence_country: string (nullable = true)\n |-- occupation: string (nullable = true)\n |-- education: string (nullable = true)\n |-- family: string (nullable = true)\n |-- lang: string (nullable = true)\n |-- coach: string (nullable = true)\n |-- reason: string (nullable = true)\n\n"
     ]
    }
   ],
   "source": [
    "athletes_cleaned.printSchema()"
   ]
  },
  {
   "cell_type": "code",
   "execution_count": 0,
   "metadata": {
    "application/vnd.databricks.v1+cell": {
     "cellMetadata": {
      "byteLimit": 2048000,
      "rowLimit": 10000
     },
     "inputWidgets": {},
     "nuid": "96c6baae-7562-4fa9-bba9-6c69d149d13f",
     "showTitle": false,
     "tableResultSettingsMap": {},
     "title": ""
    }
   },
   "outputs": [],
   "source": [
    "#Create a function to drop columns with high null values\n",
    "\n",
    "def drop_columns_with_high_nulls(df, threshold=0.5):\n",
    "    total_rows = df.count()  # Total number of rows in the DataFrame\n",
    "    columns_to_drop = []  # List to hold columns to drop\n",
    "\n",
    "    for column in df.columns:\n",
    "        missing_count = df.filter(col(column).isNull()).count()  # Count missing (null) values\n",
    "        if missing_count / total_rows > threshold:  # Check if nulls exceed the threshold\n",
    "            columns_to_drop.append(column)\n",
    "\n",
    "    # Drop the columns with too many missing values\n",
    "    return df.drop(*columns_to_drop)\n"
   ]
  },
  {
   "cell_type": "code",
   "execution_count": 0,
   "metadata": {
    "application/vnd.databricks.v1+cell": {
     "cellMetadata": {
      "byteLimit": 2048000,
      "rowLimit": 10000
     },
     "inputWidgets": {},
     "nuid": "62967a44-0f7c-46d3-ae29-de4738fd4fe0",
     "showTitle": false,
     "tableResultSettingsMap": {},
     "title": ""
    }
   },
   "outputs": [
    {
     "output_type": "stream",
     "name": "stdout",
     "output_type": "stream",
     "text": [
      "+------------+-------------+--------------------+----------+------------+------------+-----+\n|country_code|      country|        country_long|Gold Medal|Silver Medal|Bronze Medal|Total|\n+------------+-------------+--------------------+----------+------------+------------+-----+\n|         USA|United States|United States of ...|        40|          44|          42|  126|\n|         CHN|        China|People's Republic...|        40|          27|          24|   91|\n|         JPN|        Japan|               Japan|        20|          12|          13|   45|\n|         AUS|    Australia|           Australia|        18|          19|          16|   53|\n|         FRA|       France|              France|        16|          26|          22|   64|\n|         NED|  Netherlands|         Netherlands|        15|           7|          12|   34|\n|         GBR|Great Britain|       Great Britain|        14|          22|          29|   65|\n|         KOR|        Korea|   Republic of Korea|        13|           9|          10|   32|\n|         ITA|        Italy|               Italy|        12|          13|          15|   40|\n|         GER|      Germany|             Germany|        12|          13|           8|   33|\n+------------+-------------+--------------------+----------+------------+------------+-----+\nonly showing top 10 rows\n\n"
     ]
    }
   ],
   "source": [
    "drop_columns_with_high_nulls(coaches, threshold=0.5)\n",
    "drop_columns_with_high_nulls(medals, threshold=0.5)\n",
    "drop_columns_with_high_nulls(total_medals, threshold=0.5)\n",
    "total_medals.show(10)"
   ]
  },
  {
   "cell_type": "code",
   "execution_count": 0,
   "metadata": {
    "application/vnd.databricks.v1+cell": {
     "cellMetadata": {
      "byteLimit": 2048000,
      "rowLimit": 10000
     },
     "inputWidgets": {},
     "nuid": "f46d52ad-78ad-45bc-ae26-73e49057b89c",
     "showTitle": false,
     "tableResultSettingsMap": {},
     "title": ""
    }
   },
   "outputs": [
    {
     "output_type": "stream",
     "name": "stdout",
     "output_type": "stream",
     "text": [
      "+-------+-------+-------------------+------+---------------+--------+------------+---------+--------------------+-----------------+----------+\n|   code|current|               name|gender|       function|category|country_code|  country|        country_long|      disciplines|birth_date|\n+-------+-------+-------------------+------+---------------+--------+------------+---------+--------------------+-----------------+----------+\n|1533246|   true|     PEDRERO Ofelia|Female|          Coach|       C|         MEX|   Mexico|              Mexico|Artistic Swimming|1988-03-28|\n|1535775|   true|   RADHI SHENAISHIL|  Male|     Head Coach|       C|         IRQ|     Iraq|                Iraq|         Football|1965-07-01|\n|1536055|   true|AFLAKIKHAMSEH Majid|  Male|          Coach|       C|         IRI|  IR Iran|Islamic Republic ...|        Taekwondo|1973-08-26|\n|1536059|   true|    YOUSEFY Mehrdad|  Male|          Coach|       C|         IRI|  IR Iran|Islamic Republic ...|        Taekwondo|1972-06-12|\n|1536060|   true|       MADDAH Minoo|Female|          Coach|       C|         IRI|  IR Iran|Islamic Republic ...|        Taekwondo|1976-05-17|\n|1536328|   true|     LOFTUS Adriana|Female|          Coach|       C|         MEX|   Mexico|              Mexico|Artistic Swimming|1958-06-28|\n|1538313|   true|   FERRARA Fernando|  Male|     Head Coach|       C|         ARG|Argentina|           Argentina|           Hockey|1968-07-24|\n|1538315|   true|    GULLA Alejandra|Female|Assistant Coach|       C|         ARG|Argentina|           Argentina|           Hockey|1977-07-04|\n|1538317|   true|   CAPURRO Santiago|  Male|Assistant Coach|       C|         ARG|Argentina|           Argentina|           Hockey|1975-04-08|\n|1538745|   true|    RONCONI Mariano|  Male|     Head Coach|       C|         ARG|Argentina|           Argentina|           Hockey|      NULL|\n+-------+-------+-------------------+------+---------------+--------+------------+---------+--------------------+-----------------+----------+\nonly showing top 10 rows\n\n"
     ]
    }
   ],
   "source": [
    "### drop some columns that i don't need\n",
    "coaches.drop(\"events\").show(10) "
   ]
  },
  {
   "cell_type": "code",
   "execution_count": 0,
   "metadata": {
    "application/vnd.databricks.v1+cell": {
     "cellMetadata": {
      "byteLimit": 2048000,
      "rowLimit": 10000
     },
     "inputWidgets": {},
     "nuid": "448cbcd5-5e01-4a0b-ae1a-337c6fe5aac5",
     "showTitle": false,
     "tableResultSettingsMap": {},
     "title": ""
    }
   },
   "outputs": [],
   "source": [
    "athletes_cleaned.repartition(1).write.mode(\"overwrite\").option(\"header\",'true').csv(\"abfss://paris-olympic-data@parisolympicdataaristide.dfs.core.windows.net/transform-data/athletes_cleaned\")\n",
    "coaches.repartition(1).write.mode(\"overwrite\").option(\"header\",\"true\").csv(\"abfss://paris-olympic-data@parisolympicdataaristide.dfs.core.windows.net/transform-data/coaches\")\n",
    "medals.repartition(1).write.mode(\"overwrite\").option(\"header\",\"true\").csv(\"abfss://paris-olympic-data@parisolympicdataaristide.dfs.core.windows.net/transform-data/medals\")\n",
    "total_medals.repartition(1).write.mode(\"overwrite\").option(\"header\",\"true\").csv(\"abfss://paris-olympic-data@parisolympicdataaristide.dfs.core.windows.net/transform-data/medals-totals\")\n",
    "teams.repartition(1).write.mode(\"overwrite\").option(\"header\",\"true\").csv(\"abfss://paris-olympic-data@parisolympicdataaristide.dfs.core.windows.net/transform-data/teams\")"
   ]
  }
 ],
 "metadata": {
  "application/vnd.databricks.v1+notebook": {
   "computePreferences": null,
   "dashboards": [],
   "environmentMetadata": {
    "base_environment": "",
    "client": "1"
   },
   "language": "python",
   "notebookMetadata": {
    "mostRecentlyExecutedCommandWithImplicitDF": {
     "commandId": 1149900419950903,
     "dataframes": [
      "_sqldf"
     ]
    },
    "pythonIndentUnit": 4
   },
   "notebookName": "Paris olympic transformation",
   "widgets": {}
  },
  "language_info": {
   "name": "python"
  }
 },
 "nbformat": 4,
 "nbformat_minor": 0
}